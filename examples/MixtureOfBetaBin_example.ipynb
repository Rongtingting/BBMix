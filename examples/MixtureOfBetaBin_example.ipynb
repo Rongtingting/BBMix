{
 "cells": [
  {
   "cell_type": "markdown",
   "metadata": {},
   "source": [
    "# EM parameter estimation for Mixture of Beta Binomial Distribution \n",
    "## Chen Qiao, June 5th, 2020\n",
    "## cqiao@connect.hku.hk"
   ]
  },
  {
   "cell_type": "markdown",
   "metadata": {},
   "source": [
    "## Derivations of EM steps for Mixture of Beta Binomial Distribution\n",
    "\n",
    "- Beta-Binomial Distribution (BB): \n",
    "$$\n",
    "\\begin{align}\n",
    "p(y^{(i)} | \\theta) &= \\int_{0}^{(1)}Bin(n^{(i)},p) \\cdot Beta(\\alpha, \\beta) dp \\\\\n",
    "                &= {{n^{(i)}}\\choose{y^{(i)}}}\\frac{1}{B(\\alpha,\\beta)} \\int_{0}^{1} p^{y^{(i)}+ \\alpha -1} (1-p)^{n^{(i)} - y^{(i)} + \\beta - 1} dp   \\\\\n",
    "                &= {{n^{(i)}}\\choose{y^{(i)}}}\\frac{B(y^{(i)}+\\alpha, n^{(i)}-y^{(i)}+\\beta)}{B(\\alpha, \\beta)}\n",
    "\\end{align}\n",
    "$$\n",
    "\n",
    "- Mixture of Beta-Binomial Distribution (MBB), joint probablility, suppose there are K components, and let the variables be $\\mathbf{\\gamma} = [\\gamma_{0}, \\gamma_{1}, ..., \\gamma_{k}, \\gamma_{K}]$, $\\gamma_{k} \\text{~} Bin(1, \\pi_k)$:\n",
    "$$\n",
    "\\begin{align}\n",
    "p(y^{(i)}, \\gamma^{(i)} | \\theta, \\pi) &= \\prod_{k=1}^{K} p(y^{(i)}, \\gamma_{k}^{(i)}| \\theta_{k}, \\pi_k)^{\\gamma^{(i)}_k} \\\\\n",
    "                                                      &= \\prod_{k=1}^{K} \\{p(y^{(i)} | \\theta_{k}) \\pi_k \\}^{\\gamma_k^{(i)}}\n",
    "\\end{align}\n",
    "$$\n",
    "\n",
    "- Log likelihood of the full data (MBB):\n",
    "$$\n",
    "\\begin{align}\n",
    "\\log p(y^{(i)}, \\gamma^{(i)} | \\theta, \\pi) &= \\sum_{k=1}^{K} \\bigg \\{ \\gamma^{(i)}_k \\big(\\log\\pi_k + \\log p(y^{(i)} | \\theta_{k}) \\big)\n",
    "\\bigg\\} \n",
    "\\end{align}\n",
    "$$"
   ]
  },
  {
   "cell_type": "markdown",
   "metadata": {},
   "source": [
    "## E step:\n",
    "\n",
    "$$\n",
    "\\begin{align}\n",
    "E_{\\gamma^{(i)}_k \\text{~} p(\\gamma_k|y^{(i)}, \\pi_k)}[\\log p(y^{(i)}, \\gamma^{(i)}] &= E\\bigg[\\sum_{k=1}^{K} \\big \\{ \\gamma^{(i)}_k \\big(\\log\\pi_k + \\log p(y^{(i)} | \\theta_k) \\big)\\big\\} \\bigg] \\\\\n",
    "                      &= \\sum_{k=1}^{K} \\big \\{ E[\\gamma^{(i)}_k] \\big(\\log\\pi_k + \\log p(y^{(i)} | \\theta_k) \\big)\\big\\} \\\\\n",
    "\\end{align}\n",
    "$$\n",
    "\n",
    "\n",
    "As:\n",
    "$$\n",
    "\\begin{align}\n",
    "\\bar{\\gamma}_k^{(i)} = E(\\gamma^{(i)}_k|y^{(i)}, \\theta, \\pi_k) &= p(\\gamma_k = 1| y^{(i)}, \\theta, \\pi_k)   \\text(- Expection of Bernoulli distribution)\\\\\n",
    "                                       &= \\frac{p(\\gamma^{(i)}_k=1, y^{(i)}| \\theta, \\pi_k)}{\\sum_{k=1}^{K}p(\\gamma_k^{(i)}=1, y^{(i)}| \\theta, \\pi_k)} \\\\\n",
    "                                       &= \\frac{p(y^{(i)}|\\gamma^{(i)}_k=1, \\theta, \\pi_k) \\cdot p(\\gamma^{(i)}_k=1|\\pi_k)}{\\sum_{k=1}^{K}p(y^{(i)}|\\gamma^{(i)}_k=1, \\theta, \\pi_k) \\cdot p(\\gamma^{(i)}_k=1|\\pi_k)} \\\\\n",
    "                                       &= \\frac{ {{n^{(i)}}\\choose{y^{(i)}}} \\frac{B(y^{(i)} + \\alpha_k, n^{(i)}-y^{(i)} + \\beta_k)}{B(\\alpha_k, \\beta_k)} \\cdot \\pi_k}{ \\sum_{k=1}^{K}{{n^{(i)}}\\choose{y^{(i)}}} \\frac{B(y^{(i)} + \\alpha_k, n^{(i)}-y^{(i)} + \\beta_k)}{B(\\alpha_k, \\beta_k)} \\cdot \\pi_k} \\\\\n",
    "                                       &= \\frac{\\frac{B(y^{(i)} + \\alpha_k, n^{(i)}-y^{(i)} + \\beta_k)}{B(\\alpha_k, \\beta_k)} \\cdot \\pi_k}{ \\sum_{k=1}^{K} \\frac{B(y^{(i)} + \\alpha_k, n^{(i)}-y^{(i)} + \\beta_k)}{B(\\alpha_k, \\beta_k)} \\cdot \\pi_k}\n",
    "\\end{align}\n",
    "$$\n",
    "\n",
    "## M step\n",
    "M-step hence is to optimize:\n",
    "\n",
    "$$\n",
    " \\max_{\\pi, \\theta}\\bigg\\{\\sum_{k=1}^{K} \\big \\{ \\bar{\\gamma}_k^{(i)} \\big(\\log\\pi_k + \\log p(y^{(i)} | \\theta_k) \\big)\\big\\} \\bigg\\} \\\\\n",
    " = \\max_{\\pi, \\theta}\\bigg\\{ \\sum_{k=1}^{K} \\big \\{ \\bar{\\gamma}_k^{(i)} \\big(\\log\\pi_k + \\log{{n^{(i)}}\\choose{y^{(i)}}} + \\log B(y^{(i)}+\\alpha_k, n^{(i)}-y^{(i)}+\\beta_k) - \\log{B(\\alpha_k, \\beta_k)} \\big)\\big\\} \\bigg\\} \\\\\n",
    "s.t. \\sum_{k=1}^{K} \\pi_k = 1, \\\\ \\pi_k \\geq 0, k=1,...,K\\\\ \\alpha > 0, \\\\ \\beta > 0\n",
    "$$\n",
    "\n",
    "\n",
    "Using all the data points:\n",
    "\n",
    "$$\n",
    "\\max_{\\pi, \\theta}\\bigg\\{ \\sum_{i=1}^{N}\\sum_{k=1}^{K} \\big \\{ \\bar{\\gamma}_k^{(i)} \\big(\\log\\pi_k + \\log{{n^{(i)}}\\choose{y^{(i)}}} + \\log B(y^{(i)}+\\alpha_k, n^{(i)}-y^{(i)}+\\beta_k) - \\log{B(\\alpha_k, \\beta_k)} \\big)\\big\\} \\bigg\\} \\\\\n",
    "s.t. \\sum_{k=1}^{K} \\pi_k = 1 \\\\ \\pi_k \\geq 0, k=1,...,K \\\\ \\alpha > 0, \\\\ \\beta > 0\n",
    "$$"
   ]
  },
  {
   "cell_type": "markdown",
   "metadata": {},
   "source": [
    "## Derivation of EM steps for Mixture of Binomial Model\n",
    "\n",
    "- Q function:\n",
    "$$\n",
    "\\begin{align}\n",
    "E_{\\gamma^{(i)}_k \\text{~} P(\\gamma_k;y^{(i)}, \\pi_k)}[\\sum_{i=1}^{N} \\log p(y^{(i)}, \\gamma^{(i)}_k|n^{(i)}, p_k, \\pi_k)] &= \\sum_{i=1}^{N} \\sum_{k=1}^K E[\\gamma^{(i)}_k] \\big [ \\log {{n^{(i)}}\\choose{y^{(i)}}} + y^{(i)} \\log(p_k) + (n^{(i)}-y^{(i)}) \\log(1-p_k) + \\log \\pi_k \\big]\n",
    "\\end{align}\n",
    "$$\n",
    "\n",
    "- E step:\n",
    "$$\n",
    "\\begin{align}\n",
    "   \\bar{\\gamma}^{(i)}_k &=  E[\\gamma^{(i)}_k]\n",
    "                        &=  \\frac{p^{y^{(i)}}_k (1-p_k)^{n^{(i)}-y^{(i)}} \\cdot \\pi_k}{\\sum_{k=1}^K p^{y^{(i)}}_k (1-p_k)^{n^{(i)}-y^{(i)}} \\cdot \\pi_k}\n",
    "\\end{align}\n",
    "$$\n",
    "\n",
    "- M step, analytical solution, (construct Lagrangian using $\\sum_{k=1}^K \\pi_k = 1$, etc., solving by letting the derivations equal to zero):\n",
    "$$\n",
    "\\begin{align}\n",
    "\\pi_k &= \\frac{\\sum_{i=1}^N \\bar{\\gamma}^{(i)}_k}{\\sum_{i=1}^{N} \\sum_{k=1}^K \\bar{\\gamma}^{(i)}_k} \\\\\n",
    "      &= \\frac{\\sum_{i=1}^N \\bar{\\gamma}^{(i)}_k}{N} \\\\\n",
    "p_k &= \\frac{\\sum_{i=1}^{N} y^{{(i)}}\\bar{\\gamma}^{(i)}_k}{\\sum_{i=1}^{N} n^{{(i)}}\\bar{\\gamma}^{(i)}_k}\n",
    "\\end{align}\n",
    "$$"
   ]
  },
  {
   "cell_type": "code",
   "execution_count": 1,
   "metadata": {},
   "outputs": [],
   "source": [
    "import numpy as np\n",
    "from scipy.stats import betabinom, bernoulli, binom\n",
    "import sys, time\n",
    "import matplotlib.pyplot as plt\n",
    "from binomial_mix import MixtureBinomial\n",
    "from betabin_mix import MixtureBetaBinomial\n",
    "np.random.seed(42)"
   ]
  },
  {
   "cell_type": "code",
   "execution_count": 2,
   "metadata": {},
   "outputs": [
    {
     "data": {
      "text/plain": [
       "(2000, 2000)"
      ]
     },
     "execution_count": 2,
     "metadata": {},
     "output_type": "execute_result"
    }
   ],
   "source": [
    "## simulation experiment\n",
    "# sample gammars\n",
    "n_samples = 2000\n",
    "n_trials = 1000\n",
    "pis = [0.6, 0.4]\n",
    "p1, p2 = 0.4, 0.8\n",
    "\n",
    "gammars = bernoulli.rvs(pis[0], size=n_samples)\n",
    "n_pos_events = sum(gammars)\n",
    "n_neg_events = n_samples - n_pos_events\n",
    "\n",
    "ys_of_type1 = binom.rvs(n_trials, p1, size=n_pos_events)\n",
    "ys_of_type2 = binom.rvs(n_trials, p2, size=n_neg_events)\n",
    "\n",
    "\n",
    "ys = np.concatenate((ys_of_type1, ys_of_type2))\n",
    "ns = np.ones(n_samples, dtype=np.int) * n_trials\n",
    "len(ys), len(ns)"
   ]
  },
  {
   "cell_type": "code",
   "execution_count": 3,
   "metadata": {},
   "outputs": [
    {
     "name": "stdout",
     "output_type": "stream",
     "text": [
      "[0.79918115 0.399541   0.4085     0.5915    ]\n",
      "0.4 0.8 [0.6, 0.4]\n",
      "{'BIC': 19123.029046695476, 'ICL': 19136.810494654314}\n",
      "Final training loss: 9546.312718428653\n"
     ]
    },
    {
     "data": {
      "image/png": "[encoded data removed]",
      "text/plain": [
       "<Figure size 432x288 with 1 Axes>"
      ]
     },
     "metadata": {
      "needs_background": "light"
     },
     "output_type": "display_data"
    }
   ],
   "source": [
    "em_mb = MixtureBinomial(\n",
    "     n_components=2,\n",
    "     tor=1e-20)\n",
    "\n",
    "# t = time.time()\n",
    "params = em_mb.EM((ys, ns), max_iters=250, early_stop=True)\n",
    "print(params)\n",
    "print(p1, p2, pis)\n",
    "print(em_mb.model_scores)\n",
    "plt.subplot(1, 1, 1)\n",
    "plt.plot(em_mb.losses)\n",
    "print(\"Final training loss: {}\".format(em_mb.losses[-1]))\n",
    "# print(\"Time cost: {}\".format(time.time() - t))\n",
    "plt.title(\"NLL: MixBin\")\n",
    "plt.show()"
   ]
  },
  {
   "cell_type": "code",
   "execution_count": 4,
   "metadata": {},
   "outputs": [
    {
     "data": {
      "text/plain": [
       "(2000, 2000)"
      ]
     },
     "execution_count": 4,
     "metadata": {},
     "output_type": "execute_result"
    }
   ],
   "source": [
    "## simulation experiment\n",
    "# sample gammars\n",
    "n_samples = 2000\n",
    "n_trials = 1000\n",
    "pis = [0.6, 0.4]\n",
    "alphas, betas = [2, 0.9], [0.1, 5]\n",
    "\n",
    "gammars = bernoulli.rvs(pis[0], size=n_samples)\n",
    "n_pos_events = sum(gammars)\n",
    "n_neg_events = n_samples - n_pos_events\n",
    "\n",
    "ys_of_type1 = betabinom.rvs(n_trials, alphas[0], betas[0], size=n_pos_events)\n",
    "ys_of_type2 = betabinom.rvs(n_trials, alphas[1], betas[1], size=n_neg_events)\n",
    "\n",
    "\n",
    "ys = np.concatenate((ys_of_type1, ys_of_type2))\n",
    "ns = np.ones(n_samples, dtype=np.int) * n_trials\n",
    "len(ys), len(ns)"
   ]
  },
  {
   "cell_type": "code",
   "execution_count": 5,
   "metadata": {},
   "outputs": [],
   "source": [
    "em_mbb = MixtureBetaBinomial(\n",
    "     n_components=2,\n",
    "     max_m_step_iter=250,\n",
    "     tor=1e-20)"
   ]
  },
  {
   "cell_type": "code",
   "execution_count": 6,
   "metadata": {},
   "outputs": [
    {
     "name": "stdout",
     "output_type": "stream",
     "text": [
      "[0.94140908 1.29526514 5.55425059 0.08755967 0.35697077 0.64302923]\n",
      "[2, 0.9] [0.1, 5] [0.6, 0.4]\n",
      "{'BIC': 801802.637286739, 'ICL': 801816.5476108356}\n",
      "Final training loss: 400878.51593599084\n"
     ]
    },
    {
     "data": {
      "image/png": "[encoded data removed]",
      "text/plain": [
       "<Figure size 432x288 with 1 Axes>"
      ]
     },
     "metadata": {
      "needs_background": "light"
     },
     "output_type": "display_data"
    }
   ],
   "source": [
    "# t = time.time()\n",
    "params = em_mbb.EM((ys, ns), max_iters=250, init_method=\"random\", early_stop=False)\n",
    "print(params)\n",
    "print(alphas, betas, pis)\n",
    "print(em_mbb.model_scores)\n",
    "plt.subplot(1, 1, 1)\n",
    "plt.plot(em_mbb.losses)\n",
    "print(\"Final training loss: {}\".format(em_mbb.losses[-1]))\n",
    "# print(\"Time cost: {}\".format(time.time() - t))\n",
    "plt.title(\"NLL: random_init\")\n",
    "plt.show()"
   ]
  },
  {
   "cell_type": "code",
   "execution_count": 7,
   "metadata": {},
   "outputs": [
    {
     "name": "stdout",
     "output_type": "stream",
     "text": [
      "[1.3338181  0.93889183 0.08778329 5.50745913 0.64157682 0.35842318]\n",
      "[2, 0.9] [0.1, 5] [0.6, 0.4]\n",
      "{'BIC': 801802.6387822008, 'ICL': 801816.5456831728}\n",
      "Final training loss: 400878.51668372174\n"
     ]
    },
    {
     "data": {
      "image/png": "[encoded data removed]",
      "text/plain": [
       "<Figure size 432x288 with 1 Axes>"
      ]
     },
     "metadata": {
      "needs_background": "light"
     },
     "output_type": "display_data"
    }
   ],
   "source": [
    "# t = time.time()\n",
    "params = em_mbb.EM((ys, ns), max_iters=250, init_method=\"kmeans\")\n",
    "print(params)\n",
    "print(alphas, betas, pis)\n",
    "print(em_mbb.model_scores)\n",
    "plt.subplot(1, 1, 1)\n",
    "plt.plot(em_mbb.losses)\n",
    "print(\"Final training loss: {}\".format(em_mbb.losses[-1]))\n",
    "# print(\"Time cost: {}\".format(time.time() - t))\n",
    "plt.title(\"NLL: kmeans_init\")\n",
    "plt.show()"
   ]
  },
  {
   "cell_type": "code",
   "execution_count": 8,
   "metadata": {},
   "outputs": [
    {
     "name": "stdout",
     "output_type": "stream",
     "text": [
      "[0.93908094 1.32853901 5.51169882 0.08774645 0.35825638 0.64174362]\n",
      "[2, 0.9] [0.1, 5] [0.6, 0.4]\n",
      "{'BIC': 801802.6375312929, 'ICL': 801816.5449110284}\n",
      "Final training loss: 400878.5160582678\n"
     ]
    },
    {
     "data": {
      "image/png": "[encoded data removed]",
      "text/plain": [
       "<Figure size 432x288 with 1 Axes>"
      ]
     },
     "metadata": {
      "needs_background": "light"
     },
     "output_type": "display_data"
    }
   ],
   "source": [
    "# t = time.time()\n",
    "params = em_mbb.EM((ys, ns), max_iters=500, init_method=\"mixbin\")\n",
    "print(params)\n",
    "print(alphas, betas, pis)\n",
    "print(em_mbb.model_scores)\n",
    "plt.subplot(1, 1, 1)\n",
    "plt.plot(em_mbb.losses)\n",
    "print(\"Final training loss: {}\".format(em_mbb.losses[-1]))\n",
    "# print(\"Time cost: {}\".format(time.time() - t))\n",
    "plt.title(\"NLL: mixbin_init\")\n",
    "plt.show()"
   ]
  },
  {
   "cell_type": "code",
   "execution_count": null,
   "metadata": {},
   "outputs": [],
   "source": []
  }
 ],
 "metadata": {
  "kernelspec": {
   "display_name": "Python 3",
   "language": "python",
   "name": "python3"
  },
  "language_info": {
   "codemirror_mode": {
    "name": "ipython",
    "version": 3
   },
   "file_extension": ".py",
   "mimetype": "text/x-python",
   "name": "python",
   "nbconvert_exporter": "python",
   "pygments_lexer": "ipython3",
   "version": "3.7.6"
  }
 },
 "nbformat": 4,
 "nbformat_minor": 4
}
